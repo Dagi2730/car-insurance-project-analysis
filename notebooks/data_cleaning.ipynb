{
 "cells": [
  {
   "cell_type": "markdown",
   "id": "2e1ba78d",
   "metadata": {},
   "source": [
    "# 🧹 Car Insurance Data Cleaning\n",
    "\n",
    "This notebook is focused solely on cleaning the `MachineLearningRating_v3.txt` dataset. Cleaning steps include handling missing values, fixing incorrect data types, and removing duplicates.\n"
   ]
  },
  {
   "cell_type": "markdown",
   "id": "a626509d",
   "metadata": {},
   "source": [
    "# Step 1: Import Libraries\n",
    "\n",
    "In this step, we import the necessary Python libraries."
   ]
  },
  {
   "cell_type": "code",
   "execution_count": 3,
   "id": "99346554",
   "metadata": {},
   "outputs": [],
   "source": [
    "import pandas as pd\n",
    "import numpy as np\n"
   ]
  },
  {
   "cell_type": "markdown",
   "id": "36620dd0",
   "metadata": {},
   "source": [
    "## 📂 Load Dataset\n",
    "\n",
    "The dataset is stored in the `data/` directory. It is a pipe-delimited `.txt` file.\n"
   ]
  },
  {
   "cell_type": "code",
   "execution_count": 7,
   "id": "3d298aa5",
   "metadata": {},
   "outputs": [
    {
     "name": "stdout",
     "output_type": "stream",
     "text": [
      "Shape: (1000098, 52)\n"
     ]
    },
    {
     "data": {
      "text/html": [
       "<div>\n",
       "<style scoped>\n",
       "    .dataframe tbody tr th:only-of-type {\n",
       "        vertical-align: middle;\n",
       "    }\n",
       "\n",
       "    .dataframe tbody tr th {\n",
       "        vertical-align: top;\n",
       "    }\n",
       "\n",
       "    .dataframe thead th {\n",
       "        text-align: right;\n",
       "    }\n",
       "</style>\n",
       "<table border=\"1\" class=\"dataframe\">\n",
       "  <thead>\n",
       "    <tr style=\"text-align: right;\">\n",
       "      <th></th>\n",
       "      <th>UnderwrittenCoverID</th>\n",
       "      <th>PolicyID</th>\n",
       "      <th>TransactionMonth</th>\n",
       "      <th>IsVATRegistered</th>\n",
       "      <th>Citizenship</th>\n",
       "      <th>LegalType</th>\n",
       "      <th>Title</th>\n",
       "      <th>Language</th>\n",
       "      <th>Bank</th>\n",
       "      <th>AccountType</th>\n",
       "      <th>...</th>\n",
       "      <th>ExcessSelected</th>\n",
       "      <th>CoverCategory</th>\n",
       "      <th>CoverType</th>\n",
       "      <th>CoverGroup</th>\n",
       "      <th>Section</th>\n",
       "      <th>Product</th>\n",
       "      <th>StatutoryClass</th>\n",
       "      <th>StatutoryRiskType</th>\n",
       "      <th>TotalPremium</th>\n",
       "      <th>TotalClaims</th>\n",
       "    </tr>\n",
       "  </thead>\n",
       "  <tbody>\n",
       "    <tr>\n",
       "      <th>0</th>\n",
       "      <td>145249</td>\n",
       "      <td>12827</td>\n",
       "      <td>2015-03-01 00:00:00</td>\n",
       "      <td>True</td>\n",
       "      <td></td>\n",
       "      <td>Close Corporation</td>\n",
       "      <td>Mr</td>\n",
       "      <td>English</td>\n",
       "      <td>First National Bank</td>\n",
       "      <td>Current account</td>\n",
       "      <td>...</td>\n",
       "      <td>Mobility - Windscreen</td>\n",
       "      <td>Windscreen</td>\n",
       "      <td>Windscreen</td>\n",
       "      <td>Comprehensive - Taxi</td>\n",
       "      <td>Motor Comprehensive</td>\n",
       "      <td>Mobility Metered Taxis: Monthly</td>\n",
       "      <td>Commercial</td>\n",
       "      <td>IFRS Constant</td>\n",
       "      <td>21.929825</td>\n",
       "      <td>0.0</td>\n",
       "    </tr>\n",
       "    <tr>\n",
       "      <th>1</th>\n",
       "      <td>145249</td>\n",
       "      <td>12827</td>\n",
       "      <td>2015-05-01 00:00:00</td>\n",
       "      <td>True</td>\n",
       "      <td></td>\n",
       "      <td>Close Corporation</td>\n",
       "      <td>Mr</td>\n",
       "      <td>English</td>\n",
       "      <td>First National Bank</td>\n",
       "      <td>Current account</td>\n",
       "      <td>...</td>\n",
       "      <td>Mobility - Windscreen</td>\n",
       "      <td>Windscreen</td>\n",
       "      <td>Windscreen</td>\n",
       "      <td>Comprehensive - Taxi</td>\n",
       "      <td>Motor Comprehensive</td>\n",
       "      <td>Mobility Metered Taxis: Monthly</td>\n",
       "      <td>Commercial</td>\n",
       "      <td>IFRS Constant</td>\n",
       "      <td>21.929825</td>\n",
       "      <td>0.0</td>\n",
       "    </tr>\n",
       "    <tr>\n",
       "      <th>2</th>\n",
       "      <td>145249</td>\n",
       "      <td>12827</td>\n",
       "      <td>2015-07-01 00:00:00</td>\n",
       "      <td>True</td>\n",
       "      <td></td>\n",
       "      <td>Close Corporation</td>\n",
       "      <td>Mr</td>\n",
       "      <td>English</td>\n",
       "      <td>First National Bank</td>\n",
       "      <td>Current account</td>\n",
       "      <td>...</td>\n",
       "      <td>Mobility - Windscreen</td>\n",
       "      <td>Windscreen</td>\n",
       "      <td>Windscreen</td>\n",
       "      <td>Comprehensive - Taxi</td>\n",
       "      <td>Motor Comprehensive</td>\n",
       "      <td>Mobility Metered Taxis: Monthly</td>\n",
       "      <td>Commercial</td>\n",
       "      <td>IFRS Constant</td>\n",
       "      <td>0.000000</td>\n",
       "      <td>0.0</td>\n",
       "    </tr>\n",
       "    <tr>\n",
       "      <th>3</th>\n",
       "      <td>145255</td>\n",
       "      <td>12827</td>\n",
       "      <td>2015-05-01 00:00:00</td>\n",
       "      <td>True</td>\n",
       "      <td></td>\n",
       "      <td>Close Corporation</td>\n",
       "      <td>Mr</td>\n",
       "      <td>English</td>\n",
       "      <td>First National Bank</td>\n",
       "      <td>Current account</td>\n",
       "      <td>...</td>\n",
       "      <td>Mobility - Metered Taxis - R2000</td>\n",
       "      <td>Own damage</td>\n",
       "      <td>Own Damage</td>\n",
       "      <td>Comprehensive - Taxi</td>\n",
       "      <td>Motor Comprehensive</td>\n",
       "      <td>Mobility Metered Taxis: Monthly</td>\n",
       "      <td>Commercial</td>\n",
       "      <td>IFRS Constant</td>\n",
       "      <td>512.848070</td>\n",
       "      <td>0.0</td>\n",
       "    </tr>\n",
       "    <tr>\n",
       "      <th>4</th>\n",
       "      <td>145255</td>\n",
       "      <td>12827</td>\n",
       "      <td>2015-07-01 00:00:00</td>\n",
       "      <td>True</td>\n",
       "      <td></td>\n",
       "      <td>Close Corporation</td>\n",
       "      <td>Mr</td>\n",
       "      <td>English</td>\n",
       "      <td>First National Bank</td>\n",
       "      <td>Current account</td>\n",
       "      <td>...</td>\n",
       "      <td>Mobility - Metered Taxis - R2000</td>\n",
       "      <td>Own damage</td>\n",
       "      <td>Own Damage</td>\n",
       "      <td>Comprehensive - Taxi</td>\n",
       "      <td>Motor Comprehensive</td>\n",
       "      <td>Mobility Metered Taxis: Monthly</td>\n",
       "      <td>Commercial</td>\n",
       "      <td>IFRS Constant</td>\n",
       "      <td>0.000000</td>\n",
       "      <td>0.0</td>\n",
       "    </tr>\n",
       "  </tbody>\n",
       "</table>\n",
       "<p>5 rows × 52 columns</p>\n",
       "</div>"
      ],
      "text/plain": [
       "   UnderwrittenCoverID  PolicyID     TransactionMonth  IsVATRegistered  \\\n",
       "0               145249     12827  2015-03-01 00:00:00             True   \n",
       "1               145249     12827  2015-05-01 00:00:00             True   \n",
       "2               145249     12827  2015-07-01 00:00:00             True   \n",
       "3               145255     12827  2015-05-01 00:00:00             True   \n",
       "4               145255     12827  2015-07-01 00:00:00             True   \n",
       "\n",
       "  Citizenship          LegalType Title Language                 Bank  \\\n",
       "0              Close Corporation    Mr  English  First National Bank   \n",
       "1              Close Corporation    Mr  English  First National Bank   \n",
       "2              Close Corporation    Mr  English  First National Bank   \n",
       "3              Close Corporation    Mr  English  First National Bank   \n",
       "4              Close Corporation    Mr  English  First National Bank   \n",
       "\n",
       "       AccountType  ...                    ExcessSelected CoverCategory  \\\n",
       "0  Current account  ...             Mobility - Windscreen    Windscreen   \n",
       "1  Current account  ...             Mobility - Windscreen    Windscreen   \n",
       "2  Current account  ...             Mobility - Windscreen    Windscreen   \n",
       "3  Current account  ...  Mobility - Metered Taxis - R2000    Own damage   \n",
       "4  Current account  ...  Mobility - Metered Taxis - R2000    Own damage   \n",
       "\n",
       "    CoverType            CoverGroup              Section  \\\n",
       "0  Windscreen  Comprehensive - Taxi  Motor Comprehensive   \n",
       "1  Windscreen  Comprehensive - Taxi  Motor Comprehensive   \n",
       "2  Windscreen  Comprehensive - Taxi  Motor Comprehensive   \n",
       "3  Own Damage  Comprehensive - Taxi  Motor Comprehensive   \n",
       "4  Own Damage  Comprehensive - Taxi  Motor Comprehensive   \n",
       "\n",
       "                           Product StatutoryClass StatutoryRiskType  \\\n",
       "0  Mobility Metered Taxis: Monthly     Commercial     IFRS Constant   \n",
       "1  Mobility Metered Taxis: Monthly     Commercial     IFRS Constant   \n",
       "2  Mobility Metered Taxis: Monthly     Commercial     IFRS Constant   \n",
       "3  Mobility Metered Taxis: Monthly     Commercial     IFRS Constant   \n",
       "4  Mobility Metered Taxis: Monthly     Commercial     IFRS Constant   \n",
       "\n",
       "   TotalPremium TotalClaims  \n",
       "0     21.929825         0.0  \n",
       "1     21.929825         0.0  \n",
       "2      0.000000         0.0  \n",
       "3    512.848070         0.0  \n",
       "4      0.000000         0.0  \n",
       "\n",
       "[5 rows x 52 columns]"
      ]
     },
     "execution_count": 7,
     "metadata": {},
     "output_type": "execute_result"
    }
   ],
   "source": [
    "file_path = '../data/MachineLearningRating_v3.txt'\n",
    "df = pd.read_csv(file_path, delimiter='|', low_memory=False)\n",
    "\n",
    "# Preview\n",
    "print(f\"Shape: {df.shape}\")\n",
    "df.head()\n"
   ]
  },
  {
   "cell_type": "markdown",
   "id": "f4c73f34",
   "metadata": {},
   "source": [
    "## 🧾 Data Overview\n",
    "\n",
    "We'll inspect the data types and structure.\n"
   ]
  },
  {
   "cell_type": "code",
   "execution_count": 8,
   "id": "6b4a628a",
   "metadata": {},
   "outputs": [
    {
     "name": "stdout",
     "output_type": "stream",
     "text": [
      "<class 'pandas.core.frame.DataFrame'>\n",
      "RangeIndex: 1000098 entries, 0 to 1000097\n",
      "Data columns (total 52 columns):\n",
      " #   Column                    Non-Null Count    Dtype  \n",
      "---  ------                    --------------    -----  \n",
      " 0   UnderwrittenCoverID       1000098 non-null  int64  \n",
      " 1   PolicyID                  1000098 non-null  int64  \n",
      " 2   TransactionMonth          1000098 non-null  object \n",
      " 3   IsVATRegistered           1000098 non-null  bool   \n",
      " 4   Citizenship               1000098 non-null  object \n",
      " 5   LegalType                 1000098 non-null  object \n",
      " 6   Title                     1000098 non-null  object \n",
      " 7   Language                  1000098 non-null  object \n",
      " 8   Bank                      854137 non-null   object \n",
      " 9   AccountType               959866 non-null   object \n",
      " 10  MaritalStatus             991839 non-null   object \n",
      " 11  Gender                    990562 non-null   object \n",
      " 12  Country                   1000098 non-null  object \n",
      " 13  Province                  1000098 non-null  object \n",
      " 14  PostalCode                1000098 non-null  int64  \n",
      " 15  MainCrestaZone            1000098 non-null  object \n",
      " 16  SubCrestaZone             1000098 non-null  object \n",
      " 17  ItemType                  1000098 non-null  object \n",
      " 18  mmcode                    999546 non-null   float64\n",
      " 19  VehicleType               999546 non-null   object \n",
      " 20  RegistrationYear          1000098 non-null  int64  \n",
      " 21  make                      999546 non-null   object \n",
      " 22  Model                     999546 non-null   object \n",
      " 23  Cylinders                 999546 non-null   float64\n",
      " 24  cubiccapacity             999546 non-null   float64\n",
      " 25  kilowatts                 999546 non-null   float64\n",
      " 26  bodytype                  999546 non-null   object \n",
      " 27  NumberOfDoors             999546 non-null   float64\n",
      " 28  VehicleIntroDate          999546 non-null   object \n",
      " 29  CustomValueEstimate       220456 non-null   float64\n",
      " 30  AlarmImmobiliser          1000098 non-null  object \n",
      " 31  TrackingDevice            1000098 non-null  object \n",
      " 32  CapitalOutstanding        1000096 non-null  object \n",
      " 33  NewVehicle                846803 non-null   object \n",
      " 34  WrittenOff                358197 non-null   object \n",
      " 35  Rebuilt                   358197 non-null   object \n",
      " 36  Converted                 358197 non-null   object \n",
      " 37  CrossBorder               698 non-null      object \n",
      " 38  NumberOfVehiclesInFleet   0 non-null        float64\n",
      " 39  SumInsured                1000098 non-null  float64\n",
      " 40  TermFrequency             1000098 non-null  object \n",
      " 41  CalculatedPremiumPerTerm  1000098 non-null  float64\n",
      " 42  ExcessSelected            1000098 non-null  object \n",
      " 43  CoverCategory             1000098 non-null  object \n",
      " 44  CoverType                 1000098 non-null  object \n",
      " 45  CoverGroup                1000098 non-null  object \n",
      " 46  Section                   1000098 non-null  object \n",
      " 47  Product                   1000098 non-null  object \n",
      " 48  StatutoryClass            1000098 non-null  object \n",
      " 49  StatutoryRiskType         1000098 non-null  object \n",
      " 50  TotalPremium              1000098 non-null  float64\n",
      " 51  TotalClaims               1000098 non-null  float64\n",
      "dtypes: bool(1), float64(11), int64(4), object(36)\n",
      "memory usage: 390.1+ MB\n"
     ]
    }
   ],
   "source": [
    "df.info()\n"
   ]
  },
  {
   "cell_type": "markdown",
   "id": "6fe1db2f",
   "metadata": {},
   "source": [
    "## 🚫 Missing Values\n",
    "\n",
    "We'll identify and handle missing values in the dataset.\n"
   ]
  },
  {
   "cell_type": "code",
   "execution_count": 9,
   "id": "8c5100e8",
   "metadata": {},
   "outputs": [
    {
     "data": {
      "text/plain": [
       "Bank                        145961\n",
       "AccountType                  40232\n",
       "MaritalStatus                 8259\n",
       "Gender                        9536\n",
       "mmcode                         552\n",
       "VehicleType                    552\n",
       "make                           552\n",
       "Model                          552\n",
       "Cylinders                      552\n",
       "cubiccapacity                  552\n",
       "kilowatts                      552\n",
       "bodytype                       552\n",
       "NumberOfDoors                  552\n",
       "VehicleIntroDate               552\n",
       "CustomValueEstimate         779642\n",
       "CapitalOutstanding               2\n",
       "NewVehicle                  153295\n",
       "WrittenOff                  641901\n",
       "Rebuilt                     641901\n",
       "Converted                   641901\n",
       "CrossBorder                 999400\n",
       "NumberOfVehiclesInFleet    1000098\n",
       "dtype: int64"
      ]
     },
     "execution_count": 9,
     "metadata": {},
     "output_type": "execute_result"
    }
   ],
   "source": [
    "# Check missing values\n",
    "missing = df.isnull().sum()\n",
    "missing[missing > 0]\n"
   ]
  },
  {
   "cell_type": "markdown",
   "id": "b0c3ec34",
   "metadata": {},
   "source": [
    "## 🛠 Fix Data Types\n",
    "\n",
    "Convert object columns to proper data types (e.g., dates, categories, numbers).\n"
   ]
  },
  {
   "cell_type": "code",
   "execution_count": 11,
   "id": "1866eaf9",
   "metadata": {},
   "outputs": [],
   "source": [
    "df['Gender'] = df['Gender'].astype('category')\n"
   ]
  },
  {
   "cell_type": "markdown",
   "id": "e629c565",
   "metadata": {},
   "source": [
    "## ♻️ Remove Duplicates\n",
    "\n",
    "Check and remove duplicate rows.\n"
   ]
  },
  {
   "cell_type": "code",
   "execution_count": 12,
   "id": "4eb399c2",
   "metadata": {},
   "outputs": [
    {
     "name": "stdout",
     "output_type": "stream",
     "text": [
      "Duplicate rows: 0\n",
      "New shape: (1000098, 52)\n"
     ]
    }
   ],
   "source": [
    "print(\"Duplicate rows:\", df.duplicated().sum())\n",
    "df = df.drop_duplicates()\n",
    "print(\"New shape:\", df.shape)\n"
   ]
  },
  {
   "cell_type": "code",
   "execution_count": 13,
   "id": "68f5e155",
   "metadata": {},
   "outputs": [
    {
     "name": "stdout",
     "output_type": "stream",
     "text": [
      "Categorical columns:\n",
      "['TransactionMonth', 'Citizenship', 'LegalType', 'Title', 'Language', 'Bank', 'AccountType', 'MaritalStatus', 'Gender', 'Country', 'Province', 'MainCrestaZone', 'SubCrestaZone', 'ItemType', 'VehicleType', 'make', 'Model', 'bodytype', 'VehicleIntroDate', 'AlarmImmobiliser', 'TrackingDevice', 'CapitalOutstanding', 'NewVehicle', 'WrittenOff', 'Rebuilt', 'Converted', 'CrossBorder', 'TermFrequency', 'ExcessSelected', 'CoverCategory', 'CoverType', 'CoverGroup', 'Section', 'Product', 'StatutoryClass', 'StatutoryRiskType']\n",
      "\n",
      "Numerical columns:\n",
      "['UnderwrittenCoverID', 'PolicyID', 'PostalCode', 'mmcode', 'RegistrationYear', 'Cylinders', 'cubiccapacity', 'kilowatts', 'NumberOfDoors', 'CustomValueEstimate', 'NumberOfVehiclesInFleet', 'SumInsured', 'CalculatedPremiumPerTerm', 'TotalPremium', 'TotalClaims']\n"
     ]
    }
   ],
   "source": [
    "# Automatically categorize columns based on their data types\n",
    "categorical_cols = df.select_dtypes(include=['object', 'category']).columns.tolist()\n",
    "numerical_cols = df.select_dtypes(include=['number']).columns.tolist()\n",
    "\n",
    "print(\"Categorical columns:\")\n",
    "print(categorical_cols)\n",
    "\n",
    "print(\"\\nNumerical columns:\")\n",
    "print(numerical_cols)\n"
   ]
  },
  {
   "cell_type": "code",
   "execution_count": 14,
   "id": "ccbe93de",
   "metadata": {},
   "outputs": [
    {
     "name": "stdout",
     "output_type": "stream",
     "text": [
      "Categorical columns with missing values:\n",
      "Bank                  145961\n",
      "AccountType            40232\n",
      "MaritalStatus           8259\n",
      "Gender                  9536\n",
      "VehicleType              552\n",
      "make                     552\n",
      "Model                    552\n",
      "bodytype                 552\n",
      "VehicleIntroDate         552\n",
      "CapitalOutstanding         2\n",
      "NewVehicle            153295\n",
      "WrittenOff            641901\n",
      "Rebuilt               641901\n",
      "Converted             641901\n",
      "CrossBorder           999400\n",
      "dtype: int64\n",
      "\n",
      "Numerical columns with missing values:\n",
      "mmcode                         552\n",
      "Cylinders                      552\n",
      "cubiccapacity                  552\n",
      "kilowatts                      552\n",
      "NumberOfDoors                  552\n",
      "CustomValueEstimate         779642\n",
      "NumberOfVehiclesInFleet    1000098\n",
      "dtype: int64\n"
     ]
    }
   ],
   "source": [
    "# Check missing values in categorical columns\n",
    "missing_categorical = df[categorical_cols].isnull().sum()\n",
    "missing_categorical = missing_categorical[missing_categorical > 0]\n",
    "\n",
    "# Check missing values in numerical columns\n",
    "missing_numerical = df[numerical_cols].isnull().sum()\n",
    "missing_numerical = missing_numerical[missing_numerical > 0]\n",
    "\n",
    "print(\"Categorical columns with missing values:\")\n",
    "print(missing_categorical)\n",
    "\n",
    "print(\"\\nNumerical columns with missing values:\")\n",
    "print(missing_numerical)\n"
   ]
  },
  {
   "cell_type": "code",
   "execution_count": 18,
   "id": "0cfd1260",
   "metadata": {},
   "outputs": [
    {
     "name": "stdout",
     "output_type": "stream",
     "text": [
      "Columns with all zeros: []\n",
      "Columns with all NaNs: []\n",
      " Dropped columns: []\n",
      " New shape: (1000098, 51)\n"
     ]
    }
   ],
   "source": [
    "# Check only numeric columns\n",
    "numeric_cols = df.select_dtypes(include=[np.number]).columns\n",
    "\n",
    "# Find columns that are all zeros (after filling NaNs with 0)\n",
    "all_zero_cols = [col for col in numeric_cols if (df[col].fillna(0) == 0).all()]\n",
    "\n",
    "# Columns that are all NaN (for all dtypes)\n",
    "all_nan_cols = [col for col in df.columns if df[col].isna().all()]\n",
    "\n",
    "print(\"Columns with all zeros:\", all_zero_cols)\n",
    "print(\"Columns with all NaNs:\", all_nan_cols)\n",
    "\n",
    "# Drop both\n",
    "cols_to_drop = list(set(all_zero_cols + all_nan_cols))\n",
    "df.drop(columns=cols_to_drop, inplace=True)\n",
    "\n",
    "print(\" Dropped columns:\", cols_to_drop)\n",
    "print(\" New shape:\", df.shape)\n"
   ]
  },
  {
   "cell_type": "markdown",
   "id": "77f456fc",
   "metadata": {},
   "source": [
    "## 🧮 Step 6: Count Gender and Marital Status Values\n",
    "\n",
    "Before proceeding to final checks, let’s understand how these two important categorical columns are distributed.\n"
   ]
  },
  {
   "cell_type": "code",
   "execution_count": 45,
   "id": "f158f08e",
   "metadata": {},
   "outputs": [
    {
     "name": "stdout",
     "output_type": "stream",
     "text": [
      " Gender counts:\n",
      "Gender\n",
      "Unknown    949679\n",
      "Male        42468\n",
      "Female       6755\n",
      "Name: count, dtype: int64\n",
      "\n",
      "========================================\n",
      "\n",
      " Marital Status counts:\n",
      "MaritalStatus\n",
      "Unknown    993271\n",
      "Single       4254\n",
      "Married      1377\n",
      "Name: count, dtype: int64\n"
     ]
    }
   ],
   "source": [
    "# Check if the columns exist\n",
    "if 'Gender' in df.columns:\n",
    "    print(\" Gender counts:\")\n",
    "    print(df['Gender'].value_counts(dropna=False))\n",
    "else:\n",
    "    print(\" 'Gender' column not found.\")\n",
    "\n",
    "print(\"\\n\" + \"=\"*40 + \"\\n\")\n",
    "\n",
    "if 'MaritalStatus' in df.columns:\n",
    "    print(\" Marital Status counts:\")\n",
    "    print(df['MaritalStatus'].value_counts(dropna=False))\n",
    "else:\n",
    "    print(\" 'MaritalStatus' column not found.\")\n"
   ]
  },
  {
   "cell_type": "code",
   "execution_count": 43,
   "id": "a4f5bd3e",
   "metadata": {},
   "outputs": [],
   "source": [
    "# Handle Gender\n",
    "if 'Gender' in df.columns and df['Gender'].dtype.name == 'category':\n",
    "    if 'Unknown' not in df['Gender'].cat.categories:\n",
    "        df['Gender'] = df['Gender'].cat.add_categories(['Unknown'])\n",
    "    df['Gender'] = df['Gender'].fillna('Unknown')\n",
    "    df['Gender'] = df['Gender'].replace('Not specified', 'Unknown')\n",
    "\n",
    "# Handle MaritalStatus\n",
    "if 'MaritalStatus' in df.columns and df['MaritalStatus'].dtype.name == 'category':\n",
    "    if 'Unknown' not in df['MaritalStatus'].cat.categories:\n",
    "        df['MaritalStatus'] = df['MaritalStatus'].cat.add_categories(['Unknown'])\n",
    "    df['MaritalStatus'] = df['MaritalStatus'].fillna('Unknown')\n",
    "    df['MaritalStatus'] = df['MaritalStatus'].replace('Not specified', 'Unknown')\n"
   ]
  },
  {
   "cell_type": "code",
   "execution_count": 46,
   "id": "51e27651",
   "metadata": {},
   "outputs": [
    {
     "name": "stdout",
     "output_type": "stream",
     "text": [
      " All Columns in the DataFrame:\n",
      "\n",
      "['UnderwrittenCoverID', 'PolicyID', 'TransactionMonth', 'IsVATRegistered', 'Citizenship', 'LegalType', 'Title', 'Bank', 'AccountType', 'MaritalStatus', 'Gender', 'Province', 'PostalCode', 'MainCrestaZone', 'SubCrestaZone', 'mmcode', 'VehicleType', 'RegistrationYear', 'make', 'Model', 'Cylinders', 'cubiccapacity', 'kilowatts', 'bodytype', 'NumberOfDoors', 'VehicleIntroDate', 'AlarmImmobiliser', 'TrackingDevice', 'CapitalOutstanding', 'NewVehicle', 'SumInsured', 'CalculatedPremiumPerTerm', 'CoverCategory', 'CoverType', 'CoverGroup', 'Section', 'Product', 'TotalPremium', 'TotalClaims']\n",
      "\n",
      " Column Data Types:\n",
      "\n",
      "UnderwrittenCoverID            int64\n",
      "PolicyID                       int64\n",
      "TransactionMonth              object\n",
      "IsVATRegistered                 bool\n",
      "Citizenship                   object\n",
      "LegalType                     object\n",
      "Title                         object\n",
      "Bank                          object\n",
      "AccountType                   object\n",
      "MaritalStatus                 object\n",
      "Gender                      category\n",
      "Province                      object\n",
      "PostalCode                     int64\n",
      "MainCrestaZone                object\n",
      "SubCrestaZone                 object\n",
      "mmcode                       float64\n",
      "VehicleType                   object\n",
      "RegistrationYear               int64\n",
      "make                          object\n",
      "Model                         object\n",
      "Cylinders                    float64\n",
      "cubiccapacity                float64\n",
      "kilowatts                    float64\n",
      "bodytype                      object\n",
      "NumberOfDoors                float64\n",
      "VehicleIntroDate              object\n",
      "AlarmImmobiliser              object\n",
      "TrackingDevice                object\n",
      "CapitalOutstanding           float64\n",
      "NewVehicle                    object\n",
      "SumInsured                   float64\n",
      "CalculatedPremiumPerTerm     float64\n",
      "CoverCategory                 object\n",
      "CoverType                     object\n",
      "CoverGroup                    object\n",
      "Section                       object\n",
      "Product                       object\n",
      "TotalPremium                 float64\n",
      "TotalClaims                  float64\n",
      "dtype: object\n",
      "\n",
      " Missing Values Per Column:\n",
      "\n",
      "✅ No missing values.\n"
     ]
    }
   ],
   "source": [
    "# List all columns in the DataFrame\n",
    "print(\" All Columns in the DataFrame:\\n\")\n",
    "print(df.columns.tolist())\n",
    "\n",
    "# Show column data types\n",
    "print(\"\\n Column Data Types:\\n\")\n",
    "print(df.dtypes)\n",
    "\n",
    "# Show number of missing values per column (if any)\n",
    "print(\"\\n Missing Values Per Column:\\n\")\n",
    "missing_summary = df.isna().sum()\n",
    "print(missing_summary[missing_summary > 0] if missing_summary.sum() > 0 else \"✅ No missing values.\")\n"
   ]
  },
  {
   "cell_type": "code",
   "execution_count": 25,
   "id": "96dfad2e",
   "metadata": {},
   "outputs": [
    {
     "name": "stdout",
     "output_type": "stream",
     "text": [
      " Dataset contains 1,000,098 rows and 51 columns.\n",
      "\n",
      "Columns with Missing Data:\n",
      "\n",
      "                     MissingValues  Percent\n",
      "CrossBorder                 999400    99.93\n",
      "CustomValueEstimate         779642    77.96\n",
      "Rebuilt                     641901    64.18\n",
      "Converted                   641901    64.18\n",
      "WrittenOff                  641901    64.18\n",
      "NewVehicle                  153295    15.33\n",
      "Bank                        145961    14.59\n",
      "AccountType                  40232     4.02\n",
      "mmcode                         552     0.06\n",
      "VehicleType                    552     0.06\n",
      "make                           552     0.06\n",
      "NumberOfDoors                  552     0.06\n",
      "bodytype                       552     0.06\n",
      "kilowatts                      552     0.06\n",
      "cubiccapacity                  552     0.06\n",
      "Cylinders                      552     0.06\n",
      "Model                          552     0.06\n",
      "VehicleIntroDate               552     0.06\n",
      "CapitalOutstanding               2     0.00\n"
     ]
    }
   ],
   "source": [
    "# Dataset shape\n",
    "print(f\" Dataset contains {df.shape[0]:,} rows and {df.shape[1]} columns.\\n\")\n",
    "\n",
    "# Percent of missing values\n",
    "missing_info = df.isna().sum()\n",
    "missing_info = missing_info[missing_info > 0].sort_values(ascending=False)\n",
    "missing_percent = (missing_info / len(df)) * 100\n",
    "\n",
    "# Display summary\n",
    "final_missing_df = pd.DataFrame({\n",
    "    'MissingValues': missing_info,\n",
    "    'Percent': missing_percent.round(2)\n",
    "})\n",
    "print(\"Columns with Missing Data:\\n\")\n",
    "print(final_missing_df)\n"
   ]
  },
  {
   "cell_type": "code",
   "execution_count": 27,
   "id": "0406cb69",
   "metadata": {},
   "outputs": [
    {
     "name": "stdout",
     "output_type": "stream",
     "text": [
      "\n",
      " Object-Type Columns:\n",
      "\n",
      "['TransactionMonth', 'Citizenship', 'LegalType', 'Title', 'Language', 'Bank', 'AccountType', 'MaritalStatus', 'Country', 'Province', 'MainCrestaZone', 'SubCrestaZone', 'ItemType', 'VehicleType', 'make', 'Model', 'bodytype', 'VehicleIntroDate', 'AlarmImmobiliser', 'TrackingDevice', 'CapitalOutstanding', 'NewVehicle', 'WrittenOff', 'Rebuilt', 'Converted', 'CrossBorder', 'TermFrequency', 'ExcessSelected', 'CoverCategory', 'CoverType', 'CoverGroup', 'Section', 'Product', 'StatutoryClass', 'StatutoryRiskType']\n"
     ]
    }
   ],
   "source": [
    "# Show object-type columns (often need special handling)\n",
    "print(\"\\n Object-Type Columns:\\n\")\n",
    "print(df.select_dtypes(include='object').columns.tolist())\n"
   ]
  },
  {
   "cell_type": "code",
   "execution_count": 28,
   "id": "c4397c95",
   "metadata": {},
   "outputs": [
    {
     "name": "stdout",
     "output_type": "stream",
     "text": [
      "Dropping columns with > 50% missing: ['CustomValueEstimate', 'WrittenOff', 'Rebuilt', 'Converted', 'CrossBorder']\n",
      "Remaining columns: ['UnderwrittenCoverID', 'PolicyID', 'TransactionMonth', 'IsVATRegistered', 'Citizenship', 'LegalType', 'Title', 'Language', 'Bank', 'AccountType', 'MaritalStatus', 'Gender', 'Country', 'Province', 'PostalCode', 'MainCrestaZone', 'SubCrestaZone', 'ItemType', 'mmcode', 'VehicleType', 'RegistrationYear', 'make', 'Model', 'Cylinders', 'cubiccapacity', 'kilowatts', 'bodytype', 'NumberOfDoors', 'VehicleIntroDate', 'AlarmImmobiliser', 'TrackingDevice', 'CapitalOutstanding', 'NewVehicle', 'SumInsured', 'TermFrequency', 'CalculatedPremiumPerTerm', 'ExcessSelected', 'CoverCategory', 'CoverType', 'CoverGroup', 'Section', 'Product', 'StatutoryClass', 'StatutoryRiskType', 'TotalPremium', 'TotalClaims']\n"
     ]
    }
   ],
   "source": [
    "# Calculate missing percentage per column\n",
    "missing_percent = df.isna().mean() * 100\n",
    "\n",
    "# Identify columns with > 50% missing data\n",
    "cols_to_drop = missing_percent[missing_percent > 50].index.tolist()\n",
    "print(f\"Dropping columns with > 50% missing: {cols_to_drop}\")\n",
    "\n",
    "# Drop these columns\n",
    "df.drop(columns=cols_to_drop, inplace=True)\n",
    "\n",
    "# Confirm removal\n",
    "print(f\"Remaining columns: {df.columns.tolist()}\")\n"
   ]
  },
  {
   "cell_type": "code",
   "execution_count": 29,
   "id": "54da8edf",
   "metadata": {},
   "outputs": [],
   "source": [
    "# List of categorical columns to fill with \"Unknown\" (adjust as needed)\n",
    "cat_cols_to_fill = ['Bank', 'NewVehicle', 'AccountType', 'TrackingDevice', 'AlarmImmobiliser']\n",
    "\n",
    "for col in cat_cols_to_fill:\n",
    "    if col in df.columns:\n",
    "        df[col] = df[col].fillna('Unknown')\n"
   ]
  },
  {
   "cell_type": "code",
   "execution_count": 34,
   "id": "ed2841a3",
   "metadata": {},
   "outputs": [
    {
     "name": "stdout",
     "output_type": "stream",
     "text": [
      "Column 'TermFrequency' has all NaN values after conversion.\n",
      "Column 'ExcessSelected' has all NaN values after conversion.\n"
     ]
    }
   ],
   "source": [
    "for col in num_cols_to_impute:\n",
    "    if col in df.columns:\n",
    "        # Convert to numeric with coercion\n",
    "        df[col] = pd.to_numeric(df[col], errors='coerce')\n",
    "        \n",
    "        # Check if all values are NaN\n",
    "        if df[col].isna().all():\n",
    "            print(f\"Column '{col}' has all NaN values after conversion.\")\n",
    "        else:\n",
    "            median_val = df[col].median()\n",
    "            df[col] = df[col].fillna(median_val)\n"
   ]
  },
  {
   "cell_type": "code",
   "execution_count": 35,
   "id": "92b3f275",
   "metadata": {},
   "outputs": [
    {
     "name": "stdout",
     "output_type": "stream",
     "text": [
      "Dropped columns: ['TermFrequency', 'ExcessSelected']\n"
     ]
    }
   ],
   "source": [
    "cols_to_drop = ['TermFrequency', 'ExcessSelected']\n",
    "\n",
    "# Drop columns if they exist in the DataFrame\n",
    "df = df.drop(columns=[col for col in cols_to_drop if col in df.columns])\n",
    "\n",
    "print(\"Dropped columns:\", cols_to_drop)\n"
   ]
  },
  {
   "cell_type": "code",
   "execution_count": 32,
   "id": "785b4c47",
   "metadata": {},
   "outputs": [
    {
     "name": "stdout",
     "output_type": "stream",
     "text": [
      "Rows remaining after dropping missing vehicle feature rows: 1000098\n"
     ]
    }
   ],
   "source": [
    "vehicle_features = ['Length', 'Width', 'Height', 'EngineSize', 'FuelTankCapacity', \n",
    "                   'GrossVehicleMass', 'Power', 'NumberOfDoors', 'NumberOfSeats', \n",
    "                   'NumberOfCylinder']\n",
    "\n",
    "existing_vehicle_features = [col for col in vehicle_features if col in df.columns]\n",
    "\n",
    "df.dropna(subset=existing_vehicle_features, inplace=True)\n",
    "\n",
    "print(f\"Rows remaining after dropping missing vehicle feature rows: {len(df)}\")\n"
   ]
  },
  {
   "cell_type": "markdown",
   "id": "083c262a",
   "metadata": {},
   "source": [
    "# Final Check Code"
   ]
  },
  {
   "cell_type": "code",
   "execution_count": 36,
   "id": "9263d629",
   "metadata": {},
   "outputs": [
    {
     "name": "stdout",
     "output_type": "stream",
     "text": [
      "Dataset shape: (1000098, 44)\n",
      "Columns with missing values:\n",
      "mmcode              552\n",
      "VehicleType         552\n",
      "make                552\n",
      "Model               552\n",
      "Cylinders           552\n",
      "cubiccapacity       552\n",
      "kilowatts           552\n",
      "bodytype            552\n",
      "VehicleIntroDate    552\n",
      "dtype: int64\n",
      "Columns with single unique value (consider dropping): ['Language', 'Country', 'ItemType', 'StatutoryClass', 'StatutoryRiskType']\n",
      "\n",
      "Data types summary:\n",
      "object      28\n",
      "float64     10\n",
      "int64        4\n",
      "bool         1\n",
      "category     1\n",
      "Name: count, dtype: int64\n",
      "\n",
      "Numerical columns summary statistics:\n",
      "       UnderwrittenCoverID      PolicyID    PostalCode        mmcode  \\\n",
      "count         1.000098e+06  1.000098e+06  1.000098e+06  9.995460e+05   \n",
      "mean          1.048175e+05  7.956682e+03  3.020601e+03  5.487770e+07   \n",
      "std           6.329371e+04  5.290039e+03  2.649854e+03  1.360381e+07   \n",
      "min           1.000000e+00  1.400000e+01  1.000000e+00  4.041200e+06   \n",
      "25%           5.514300e+04  4.500000e+03  8.270000e+02  6.005692e+07   \n",
      "50%           9.408300e+04  7.071000e+03  2.000000e+03  6.005842e+07   \n",
      "75%           1.391900e+05  1.107700e+04  4.180000e+03  6.005842e+07   \n",
      "max           3.011750e+05  2.324600e+04  9.870000e+03  6.506535e+07   \n",
      "\n",
      "       RegistrationYear      Cylinders  cubiccapacity      kilowatts  \\\n",
      "count      1.000098e+06  999546.000000  999546.000000  999546.000000   \n",
      "mean       2.010225e+03       4.046642    2466.743258      97.207919   \n",
      "std        3.261391e+00       0.294020     442.800640      19.393256   \n",
      "min        1.987000e+03       0.000000       0.000000       0.000000   \n",
      "25%        2.008000e+03       4.000000    2237.000000      75.000000   \n",
      "50%        2.011000e+03       4.000000    2694.000000     111.000000   \n",
      "75%        2.013000e+03       4.000000    2694.000000     111.000000   \n",
      "max        2.015000e+03      10.000000   12880.000000     309.000000   \n",
      "\n",
      "       NumberOfDoors  CapitalOutstanding    SumInsured  \\\n",
      "count   1.000098e+06        1.000098e+06  1.000098e+06   \n",
      "mean    4.019239e+00        5.258828e+04  6.041727e+05   \n",
      "std     4.681854e-01        1.114033e+05  1.508332e+06   \n",
      "min     0.000000e+00       -2.000000e+00  1.000000e-02   \n",
      "25%     4.000000e+00        0.000000e+00  5.000000e+03   \n",
      "50%     4.000000e+00        0.000000e+00  7.500000e+03   \n",
      "75%     4.000000e+00        0.000000e+00  2.500000e+05   \n",
      "max     6.000000e+00        7.000000e+05  1.263620e+07   \n",
      "\n",
      "       CalculatedPremiumPerTerm  TotalPremium   TotalClaims  \n",
      "count              1.000098e+06  1.000098e+06  1.000098e+06  \n",
      "mean               1.178757e+02  6.190550e+01  6.486119e+01  \n",
      "std                3.997017e+02  2.302845e+02  2.384075e+03  \n",
      "min                0.000000e+00 -7.825768e+02 -1.200241e+04  \n",
      "25%                3.224800e+00  0.000000e+00  0.000000e+00  \n",
      "50%                8.436900e+00  2.178333e+00  0.000000e+00  \n",
      "75%                9.000000e+01  2.192982e+01  0.000000e+00  \n",
      "max                7.442217e+04  6.528260e+04  3.930921e+05  \n",
      "\n",
      "Categorical columns unique value counts:\n",
      "TransactionMonth: 23 unique values\n",
      "Citizenship: 4 unique values\n",
      "LegalType: 6 unique values\n",
      "Title: 5 unique values\n",
      "Language: 1 unique values\n",
      "Bank: 12 unique values\n",
      "AccountType: 4 unique values\n",
      "MaritalStatus: 3 unique values\n",
      "Gender: 3 unique values\n",
      "Country: 1 unique values\n",
      "Province: 9 unique values\n",
      "MainCrestaZone: 16 unique values\n",
      "SubCrestaZone: 45 unique values\n",
      "ItemType: 1 unique values\n",
      "VehicleType: 5 unique values\n",
      "make: 46 unique values\n",
      "Model: 411 unique values\n",
      "bodytype: 13 unique values\n",
      "VehicleIntroDate: 174 unique values\n",
      "AlarmImmobiliser: 2 unique values\n",
      "TrackingDevice: 2 unique values\n",
      "NewVehicle: 3 unique values\n",
      "CoverCategory: 28 unique values\n",
      "CoverType: 22 unique values\n",
      "CoverGroup: 14 unique values\n",
      "Section: 5 unique values\n",
      "Product: 4 unique values\n",
      "StatutoryClass: 1 unique values\n",
      "StatutoryRiskType: 1 unique values\n",
      "\n",
      "Number of duplicate rows: 74\n"
     ]
    }
   ],
   "source": [
    "\n",
    "# 1. Check total rows and columns\n",
    "print(f\"Dataset shape: {df.shape}\")\n",
    "\n",
    "# 2. Check for missing values (any columns with missing data left?)\n",
    "missing_summary = df.isnull().sum()\n",
    "missing_cols = missing_summary[missing_summary > 0]\n",
    "\n",
    "if missing_cols.empty:\n",
    "    print(\"No missing values remaining in the dataset.\")\n",
    "else:\n",
    "    print(\"Columns with missing values:\")\n",
    "    print(missing_cols)\n",
    "\n",
    "# 3. Check for columns with single unique value (could be dropped if no variance)\n",
    "single_value_cols = [col for col in df.columns if df[col].nunique() <= 1]\n",
    "if single_value_cols:\n",
    "    print(f\"Columns with single unique value (consider dropping): {single_value_cols}\")\n",
    "else:\n",
    "    print(\"No columns with single unique value.\")\n",
    "\n",
    "# 4. Check data types summary\n",
    "print(\"\\nData types summary:\")\n",
    "print(df.dtypes.value_counts())\n",
    "\n",
    "# 5. Summary statistics for numerical columns\n",
    "print(\"\\nNumerical columns summary statistics:\")\n",
    "print(df.describe())\n",
    "\n",
    "# 6. Summary for categorical columns\n",
    "cat_cols = df.select_dtypes(include=['object', 'category']).columns\n",
    "print(\"\\nCategorical columns unique value counts:\")\n",
    "for col in cat_cols:\n",
    "    print(f\"{col}: {df[col].nunique()} unique values\")\n",
    "\n",
    "# 7. Quick check for duplicates\n",
    "duplicates_count = df.duplicated().sum()\n",
    "print(f\"\\nNumber of duplicate rows: {duplicates_count}\")"
   ]
  },
  {
   "cell_type": "code",
   "execution_count": 37,
   "id": "004a3c52",
   "metadata": {},
   "outputs": [],
   "source": [
    "cols_to_drop = ['Language', 'Country', 'ItemType', 'StatutoryClass', 'StatutoryRiskType']\n",
    "df = df.drop(columns=cols_to_drop)\n"
   ]
  },
  {
   "cell_type": "code",
   "execution_count": 38,
   "id": "54a2394b",
   "metadata": {},
   "outputs": [
    {
     "name": "stdout",
     "output_type": "stream",
     "text": [
      "Shape after dropping duplicates: (1000024, 39)\n"
     ]
    }
   ],
   "source": [
    "df = df.drop_duplicates()\n",
    "print(f\"Shape after dropping duplicates: {df.shape}\")\n"
   ]
  },
  {
   "cell_type": "code",
   "execution_count": 39,
   "id": "1d3bd30e",
   "metadata": {},
   "outputs": [
    {
     "name": "stdout",
     "output_type": "stream",
     "text": [
      "Shape after dropping rows with missing vehicle info: (999472, 39)\n"
     ]
    }
   ],
   "source": [
    "vehicle_missing_cols = ['mmcode', 'VehicleType', 'make', 'Model', 'Cylinders', 'cubiccapacity', 'kilowatts', 'bodytype', 'VehicleIntroDate']\n",
    "df = df.dropna(subset=vehicle_missing_cols)\n",
    "print(f\"Shape after dropping rows with missing vehicle info: {df.shape}\")\n"
   ]
  },
  {
   "cell_type": "code",
   "execution_count": 40,
   "id": "7d07097a",
   "metadata": {},
   "outputs": [
    {
     "name": "stdout",
     "output_type": "stream",
     "text": [
      "Number of rows with negative TotalPremium, TotalClaims or CapitalOutstanding: 570\n",
      "Shape after removing invalid negative values: (998902, 39)\n"
     ]
    }
   ],
   "source": [
    "invalid_rows = (df['TotalPremium'] < 0) | (df['TotalClaims'] < 0) | (df['CapitalOutstanding'] < 0)\n",
    "print(f\"Number of rows with negative TotalPremium, TotalClaims or CapitalOutstanding: {invalid_rows.sum()}\")\n",
    "\n",
    "df = df[~invalid_rows]\n",
    "print(f\"Shape after removing invalid negative values: {df.shape}\")\n"
   ]
  },
  {
   "cell_type": "code",
   "execution_count": 41,
   "id": "41dba382",
   "metadata": {},
   "outputs": [
    {
     "name": "stdout",
     "output_type": "stream",
     "text": [
      "Final dataset shape: (998902, 39)\n",
      "Missing values remaining:\n",
      "Series([], dtype: int64)\n",
      "Duplicate rows remaining: 0\n"
     ]
    }
   ],
   "source": [
    "print(f\"Final dataset shape: {df.shape}\")\n",
    "print(\"Missing values remaining:\")\n",
    "print(df.isnull().sum()[df.isnull().sum() > 0])\n",
    "print(f\"Duplicate rows remaining: {df.duplicated().sum()}\")\n"
   ]
  },
  {
   "cell_type": "code",
   "execution_count": null,
   "id": "8afb4352",
   "metadata": {},
   "outputs": [
    {
     "name": "stdout",
     "output_type": "stream",
     "text": [
      "Remaining columns:\n",
      "UnderwrittenCoverID\n",
      "PolicyID\n",
      "TransactionMonth\n",
      "IsVATRegistered\n",
      "Citizenship\n",
      "LegalType\n",
      "Title\n",
      "Bank\n",
      "AccountType\n",
      "MaritalStatus\n",
      "Gender\n",
      "Province\n",
      "PostalCode\n",
      "MainCrestaZone\n",
      "SubCrestaZone\n",
      "mmcode\n",
      "VehicleType\n",
      "RegistrationYear\n",
      "make\n",
      "Model\n",
      "Cylinders\n",
      "cubiccapacity\n",
      "kilowatts\n",
      "bodytype\n",
      "NumberOfDoors\n",
      "VehicleIntroDate\n",
      "AlarmImmobiliser\n",
      "TrackingDevice\n",
      "CapitalOutstanding\n",
      "NewVehicle\n",
      "SumInsured\n",
      "CalculatedPremiumPerTerm\n",
      "CoverCategory\n",
      "CoverType\n",
      "CoverGroup\n",
      "Section\n",
      "Product\n",
      "TotalPremium\n",
      "TotalClaims\n"
     ]
    }
   ],
   "source": [
    "\n",
    "    print(col)\n"
   ]
  },
  {
   "cell_type": "code",
   "execution_count": 47,
   "id": "568b3f30",
   "metadata": {},
   "outputs": [
    {
     "name": "stdout",
     "output_type": "stream",
     "text": [
      " All Columns in the DataFrame:\n",
      "\n",
      "['UnderwrittenCoverID', 'PolicyID', 'TransactionMonth', 'IsVATRegistered', 'Citizenship', 'LegalType', 'Title', 'Bank', 'AccountType', 'MaritalStatus', 'Gender', 'Province', 'PostalCode', 'MainCrestaZone', 'SubCrestaZone', 'mmcode', 'VehicleType', 'RegistrationYear', 'make', 'Model', 'Cylinders', 'cubiccapacity', 'kilowatts', 'bodytype', 'NumberOfDoors', 'VehicleIntroDate', 'AlarmImmobiliser', 'TrackingDevice', 'CapitalOutstanding', 'NewVehicle', 'SumInsured', 'CalculatedPremiumPerTerm', 'CoverCategory', 'CoverType', 'CoverGroup', 'Section', 'Product', 'TotalPremium', 'TotalClaims']\n"
     ]
    }
   ],
   "source": [
    "# List all columns in the DataFrame\n",
    "print(\" All Columns in the DataFrame:\\n\")\n",
    "print(df.columns.tolist())"
   ]
  },
  {
   "cell_type": "code",
   "execution_count": 49,
   "id": "e81095d3",
   "metadata": {},
   "outputs": [
    {
     "name": "stdout",
     "output_type": "stream",
     "text": [
      "Current working directory: c:\\Users\\HP\\Desktop\\car-insurance-project-analysis-1\\notebooks\n",
      "List of files/folders here: ['data_cleaning.ipynb', 'eda_analysis.ipynb']\n",
      "Does 'data' folder exist here? False\n"
     ]
    }
   ],
   "source": [
    "import os\n",
    "print(\"Current working directory:\", os.getcwd())\n",
    "print(\"List of files/folders here:\", os.listdir())\n",
    "print(\"Does 'data' folder exist here?\", os.path.isdir(\"data\"))\n"
   ]
  },
  {
   "cell_type": "code",
   "execution_count": 50,
   "id": "f1daf2b3",
   "metadata": {},
   "outputs": [
    {
     "name": "stdout",
     "output_type": "stream",
     "text": [
      "Cleaned dataset saved to 'cleaned_data.csv'\n"
     ]
    }
   ],
   "source": [
    "# Save the cleaned DataFrame to a CSV file\n",
    "cleaned_file_path = \"cleaned_data.csv\"\n",
    "df.to_csv(cleaned_file_path, index=False)\n",
    "\n",
    "print(f\"Cleaned dataset saved to '{cleaned_file_path}'\")\n"
   ]
  },
  {
   "cell_type": "markdown",
   "id": "0131bf4a",
   "metadata": {},
   "source": [
    "# Dataset Cleaning Summary\n",
    "\n",
    "- **Initial shape:** (1,000,098, 44)\n",
    "- **Dropped columns:** ['Language', 'Country', 'ItemType', 'StatutoryClass', 'StatutoryRiskType']\n",
    "- **Dropped duplicates:** 74 rows\n",
    "- **Dropped rows with missing vehicle info:** 552 rows\n",
    "- **Dropped rows with invalid negative values in TotalPremium, TotalClaims, CapitalOutstanding**\n",
    "- **Final shape:** (998,902, 39)\n",
    "- **No missing values remaining**\n",
    "- **No duplicate rows remaining**\n"
   ]
  }
 ],
 "metadata": {
  "language_info": {
   "name": "python"
  }
 },
 "nbformat": 4,
 "nbformat_minor": 5
}
